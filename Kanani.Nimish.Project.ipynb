{
 "cells": [
  {
   "cell_type": "markdown",
   "metadata": {},
   "source": [
    "# #Project\n",
    "Apple iTunes Charts (http://www.apple.com/itunes/charts ) is a website that tracks a variety of information on the top 100 ranked songs, albums, books, movies, etc. Task it to write Python scripts that collect data on all the current rankings for songs, albums, free apps, paid apps, top grossing apps, books, movies, tv shows and music videos that are listed on the site. As an example, information on the top 100 movies is available at: https://www.apple.com/itunes/charts/movies/\n",
    "\n",
    "Collect the the information for each category and save all information in one comma separated text file (or any other delimited file, e.g. tab separated) named rankings.txt\n",
    "\n",
    "In addition, your code should ask the user what category he/she would like to view rankings and then ask the user which ranking he/she would like information about. Repeat until user says he/she is done\n"
   ]
  },
  {
   "cell_type": "markdown",
   "metadata": {},
   "source": [
    "# #Project\n",
    "Apple iTunes Charts (http://www.apple.com/itunes/charts ) is a website that tracks a variety of information on the top 100 ranked songs, albums, books, movies, etc. Task it to write Python scripts that collect data on all the current rankings for songs, albums, free apps, paid apps, top grossing apps, books, movies, tv shows and music videos that are listed on the site. As an example, information on the top 100 movies is available at: https://www.apple.com/itunes/charts/movies/\n",
    "\n",
    "Collect the the information for each category and save all information in one comma separated text file (or any other delimited file, e.g. tab separated) named rankings.txt\n",
    "\n",
    "In addition, your code should ask the user what category he/she would like to view rankings and then ask the user which ranking he/she would like information about. Repeat until user says he/she is done\n"
   ]
  },
  {
   "cell_type": "markdown",
   "metadata": {},
   "source": [
    "# #Solutions:\n",
    "1.Get category input from user and check for conditions\n",
    "2.Create text file containig the information of each category stored rankwise using BeautifulSoup libraries\n",
    "3.Create dictonary of the data fetched from different URLs of website\n",
    "4.Get rank input from user and check for conditions\n",
    "5.Search the result from dictonary based on category input and rank input\n",
    "6.Display the result"
   ]
  },
  {
   "cell_type": "code",
   "execution_count": null,
   "metadata": {},
   "outputs": [],
   "source": []
  },
  {
   "cell_type": "code",
   "execution_count": null,
   "metadata": {},
   "outputs": [
    {
     "name": "stdout",
     "output_type": "stream",
     "text": [
      "What is the category that you are interested in getting:\n",
      "(1) Songs\n",
      "(2) Albums\n",
      "(3) Free Applications\n",
      "(4) Paid Applications\n",
      "(5) Top Grossing Applications\n",
      "(6) Books\n",
      "(7) Movies\n",
      "(8) TV Shows\n",
      "(9) Music Videos\n",
      "(10) Exit\n",
      "User inputs:1\n",
      "The data is stored in file Ranking.txt\n",
      "What rank are you interested in getting data about:85\n",
      "Information about ranking: 85 \n",
      " One Number Away and Luke Combs\n",
      "Next category you would like information about:8\n",
      "What rank are you interested in getting data about:55\n",
      "Information about ranking: 55 \n",
      " Los Enamorados and Queen of the South\n"
     ]
    }
   ],
   "source": [
    "import requests\n",
    "from bs4 import BeautifulSoup\n",
    "\n",
    "#creating function that creates text file \n",
    "def create_file():\n",
    "    f=open('Ranking.txt','w',encoding=\"utf-8\")\n",
    "    a=0\n",
    "    #iterating through each urls and storing the information from each of them\n",
    "    for chart_type in charts_link_list:\n",
    "        url='https://www.apple.com/itunes/charts/{}/'.format(chart_type)\n",
    "        page=requests.get(url)\n",
    "        soup=BeautifulSoup(page.text,'html.parser')\n",
    "        category_list=soup.select('[class~=\"section-content\"]')[1]\n",
    "        h3_name=category_list.find_all('h3')\n",
    "        h4_name=category_list.find_all('h4')\n",
    "        #writing to file\n",
    "        f.write('({}) {}\\n\\n'.format(a+1,chart_type))\n",
    "        #creating dictonary that contains all content from different urls of website, rankwise. \n",
    "        All_content_dict=dict()\n",
    "        \n",
    "        a=a+1\n",
    "        #finding the content from different urls and writing it to file and storing in dictonary\n",
    "        for itr in range(len(h3_name)):\n",
    "            name=h3_name[itr].find('a').contents[0]\n",
    "            by_name=h4_name[itr].find('a').contents[0]\n",
    "            All_content_dict[itr+1]=\"{} and {}\".format(name,by_name)\n",
    "            f.write('{}, {}, {} \\n\\n'.format(itr+1,name,by_name))\n",
    "        \n",
    "        #storing the information of the page as value in dictonary with chart type as key \n",
    "        Category_dict[chart_type]=All_content_dict\n",
    "    #print(Category_dict)\n",
    "    f.close()\n",
    "# list for fetching urls\n",
    "charts_link_list=['songs','albums','free-apps','paid-apps','top-grossing-apps','paid-books','movies','tv-shows','music-videos']\n",
    "#list for information about charts\n",
    "charts_info=['Songs Title and Artists','Albums Name and Artists','Free Applications Name and Category','Paid Applications Name and Category','Top Grossing Applications Name and Category','Title of Book and Author','Movies Title and Category','Tv Shows Episodes Name and TV Show Name','Music Video Name and Artists']\n",
    "#list for category type\n",
    "charts_names_list=['Songs','Albums','Free Applications','Paid Applications','Top Grossing Applications','Books','Movies','TV Shows','Music Videos','Exit']\n",
    "#creating dict\n",
    "Category_dict=dict()\n",
    "code=True\n",
    "n=0\n",
    "z=0\n",
    "print('What is the category that you are interested in getting:')\n",
    "m=1\n",
    "for name in charts_names_list:\n",
    "    print(\"({}) {}\".format(m,name))\n",
    "    m=m+1\n",
    "while(code):\n",
    "    \n",
    "    #getting input from the user about category and rank\n",
    "   \n",
    "    if(n==0):\n",
    "        u_inp=input('User inputs:')\n",
    "        n=n+1\n",
    "    else:\n",
    "        u_inp=input('Next category you would like information about:')\n",
    "    create_file()\n",
    "    #checking whether user input is digit and between 1 to 10 for category\n",
    "    if(not u_inp.isdigit()):\n",
    "        print('Enter a valid input from the integer choices given:')\n",
    "    else:\n",
    "        u_inp=int(u_inp)\n",
    "        if (1<=u_inp and u_inp<=10):\n",
    "            if u_inp==10:\n",
    "                print('Good Bye!')\n",
    "                code=False\n",
    "                break\n",
    "            else:\n",
    "                if(z==0):\n",
    "                    print('The data is stored in file Ranking.txt')\n",
    "                    z=z+1\n",
    "                rank=True\n",
    "                while(rank):    \n",
    "                    U_rank=input('What rank are you interested in getting data about:')\n",
    "                    if(not U_rank.isdigit()):\n",
    "                        print('Enter an integer for rank')\n",
    "                    else:\n",
    "                        U_rank=int(U_rank) \n",
    "                    \n",
    "                    #checking whether user input is digit and between 1 to 100 for rank information\n",
    "                    if(1<=U_rank<=100):\n",
    "                        #fetching rank and category from dictonary and list\n",
    "                        u_out=charts_names_list[u_inp-1]\n",
    "                        U_rankout=Category_dict[charts_link_list[u_inp-1]][U_rank]\n",
    "                        print('Information about ranking:',U_rank,'\\n',U_rankout)\n",
    "                        rank=False\n",
    "                    else:\n",
    "                        print('Rank must be between 1 to 100')\n",
    "        else:\n",
    "            print('Enter the valid choice from the given option')\n",
    "\n"
   ]
  },
  {
   "cell_type": "code",
   "execution_count": null,
   "metadata": {},
   "outputs": [],
   "source": []
  },
  {
   "cell_type": "code",
   "execution_count": null,
   "metadata": {},
   "outputs": [],
   "source": []
  },
  {
   "cell_type": "code",
   "execution_count": null,
   "metadata": {},
   "outputs": [],
   "source": []
  },
  {
   "cell_type": "code",
   "execution_count": null,
   "metadata": {},
   "outputs": [],
   "source": []
  },
  {
   "cell_type": "code",
   "execution_count": null,
   "metadata": {},
   "outputs": [],
   "source": []
  }
 ],
 "metadata": {
  "kernelspec": {
   "display_name": "Python 3",
   "language": "python",
   "name": "python3"
  },
  "language_info": {
   "codemirror_mode": {
    "name": "ipython",
    "version": 3
   },
   "file_extension": ".py",
   "mimetype": "text/x-python",
   "name": "python",
   "nbconvert_exporter": "python",
   "pygments_lexer": "ipython3",
   "version": "3.7.1"
  }
 },
 "nbformat": 4,
 "nbformat_minor": 2
}
